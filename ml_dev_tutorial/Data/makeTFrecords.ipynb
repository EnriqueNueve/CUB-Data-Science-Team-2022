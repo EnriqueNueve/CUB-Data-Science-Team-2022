{
 "cells": [
  {
   "cell_type": "markdown",
   "id": "097b0aff",
   "metadata": {},
   "source": [
    "# Make tfRecords"
   ]
  },
  {
   "cell_type": "code",
   "execution_count": null,
   "id": "1959274e",
   "metadata": {},
   "outputs": [],
   "source": [
    "import pandas as pd\n",
    "import tensorflow as tf"
   ]
  },
  {
   "cell_type": "markdown",
   "id": "73ae31e2",
   "metadata": {},
   "source": [
    "## Load data"
   ]
  },
  {
   "cell_type": "code",
   "execution_count": null,
   "id": "3cbb9e76",
   "metadata": {},
   "outputs": [],
   "source": [
    "X_train = pd.read_csv(\"X_train.csv\")\n",
    "X_test = pd.read_csv(\"X_test.csv\")\n",
    "y_train = pd.read_csv(\"y_train.csv\")\n",
    "y_test = pd.read_csv(\"y_test.csv\")\n",
    "\n",
    "input_feat_names = X_train.columns.values.tolist()"
   ]
  },
  {
   "cell_type": "code",
   "execution_count": null,
   "id": "d0124438",
   "metadata": {},
   "outputs": [],
   "source": [
    "print(X_train.shape)\n",
    "X_train.head()"
   ]
  },
  {
   "cell_type": "code",
   "execution_count": null,
   "id": "387a12bb",
   "metadata": {},
   "outputs": [],
   "source": [
    "print(y_train.shape)\n",
    "y_train.head()"
   ]
  },
  {
   "cell_type": "code",
   "execution_count": null,
   "id": "098c6aea",
   "metadata": {},
   "outputs": [],
   "source": [
    "print(X_test.shape)\n",
    "X_train.head()"
   ]
  },
  {
   "cell_type": "code",
   "execution_count": null,
   "id": "0b5df503",
   "metadata": {},
   "outputs": [],
   "source": [
    "print(y_test.shape)\n",
    "y_test.head()"
   ]
  },
  {
   "cell_type": "markdown",
   "id": "df11cb98",
   "metadata": {},
   "source": [
    "## Make train tf records "
   ]
  },
  {
   "cell_type": "code",
   "execution_count": null,
   "id": "781fd030",
   "metadata": {},
   "outputs": [],
   "source": [
    "def _float_feature(value):\n",
    "    \"\"\"Returns a float_list from a float / double.\"\"\"\n",
    "    return tf.train.Feature(float_list=tf.train.FloatList(value=[value]))\n",
    "\n",
    "def _int64_feature(value):\n",
    "    \"\"\"Returns an int64_list from a bool / enum / int / uint.\"\"\"\n",
    "    return tf.train.Feature(int64_list=tf.train.Int64List(value=[value]))\n",
    "\n",
    "def serialize_example(target, data, feat_names):\n",
    "    \"\"\"\n",
    "    Creates a tf.train.Example message ready to be written to a file.\n",
    "    \"\"\"\n",
    "    # Create a dictionary mapping the feature name to the tf.train.Example-compatible\n",
    "    # data type.\n",
    "    data = [_int64_feature(target)]+[_float_feature(i) for i in data]\n",
    "    feature = dict(zip([\"target\"]+input_feat_names,data))\n",
    "\n",
    "    # Create a Features message using tf.train.Example.\n",
    "    example_proto = tf.train.Example(features=tf.train.Features(feature=feature))\n",
    "    return example_proto.SerializeToString()"
   ]
  },
  {
   "cell_type": "code",
   "execution_count": null,
   "id": "aba9ad30",
   "metadata": {},
   "outputs": [],
   "source": [
    "filename = \"tfRecord/train.tfrecord\"\n",
    "with tf.io.TFRecordWriter(filename) as writer:\n",
    "    for i in range(X_train.shape[0]):\n",
    "        features, label = X_train.iloc[i,:].values.tolist(), int(y_train.iloc[i].values)\n",
    "        example = tf.train.Example()\n",
    "        example.features.feature[\"features\"].float_list.value.extend(features)\n",
    "        example.features.feature[\"label\"].int64_list.value.append(label)\n",
    "        writer.write(example.SerializeToString())"
   ]
  },
  {
   "cell_type": "markdown",
   "id": "7b772e8c",
   "metadata": {},
   "source": [
    "## Make test tf records "
   ]
  },
  {
   "cell_type": "code",
   "execution_count": null,
   "id": "3ff2b6a7",
   "metadata": {},
   "outputs": [],
   "source": [
    "filename = \"tfRecord/test.tfrecord\"\n",
    "with tf.io.TFRecordWriter(filename) as writer:\n",
    "    for i in range(X_test.shape[0]):\n",
    "        features, label = X_test.iloc[i,:].values.tolist(), int(y_test.iloc[i].values)\n",
    "        example = tf.train.Example()\n",
    "        example.features.feature[\"features\"].float_list.value.extend(features)\n",
    "        example.features.feature[\"label\"].int64_list.value.append(label)\n",
    "        writer.write(example.SerializeToString())"
   ]
  },
  {
   "cell_type": "markdown",
   "id": "c60eb13d",
   "metadata": {},
   "source": [
    "## Test train tf records"
   ]
  },
  {
   "cell_type": "code",
   "execution_count": null,
   "id": "6beb0bf0",
   "metadata": {},
   "outputs": [],
   "source": [
    "filenames = [\"tfRecord/train.tfrecord\"]\n",
    "raw_dataset = tf.data.TFRecordDataset(filenames)"
   ]
  },
  {
   "cell_type": "code",
   "execution_count": null,
   "id": "e5270911",
   "metadata": {},
   "outputs": [],
   "source": [
    "for raw_record in raw_dataset.take(1):\n",
    "    example = tf.train.Example()\n",
    "    example.ParseFromString(raw_record.numpy())\n",
    "    print(example)"
   ]
  },
  {
   "cell_type": "code",
   "execution_count": null,
   "id": "91e65068",
   "metadata": {},
   "outputs": [],
   "source": [
    "# Decoding function\n",
    "def parse_record(record):\n",
    "    name_to_features = {\n",
    "        'features': tf.io.FixedLenFeature([95], tf.float32),\n",
    "        'label': tf.io.FixedLenFeature([], tf.int64),\n",
    "    }\n",
    "    return tf.io.parse_single_example(record, name_to_features)\n",
    "\n",
    "def decode_record(record):\n",
    "    features = record['features']\n",
    "    target = record['label']\n",
    "    return (features,target)"
   ]
  },
  {
   "cell_type": "code",
   "execution_count": null,
   "id": "2e2758d7",
   "metadata": {},
   "outputs": [],
   "source": [
    "for raw_record in raw_dataset.take(1):\n",
    "    parsed_record = parse_record(raw_record)\n",
    "    decoded_record = decode_record(parsed_record)\n",
    "    X, y = decoded_record\n",
    "    print(X,y)"
   ]
  },
  {
   "cell_type": "markdown",
   "id": "64b7d3ee",
   "metadata": {},
   "source": [
    "## Test test tf records"
   ]
  },
  {
   "cell_type": "code",
   "execution_count": null,
   "id": "fd7959e9",
   "metadata": {},
   "outputs": [],
   "source": [
    "filenames = [\"tfRecord/test.tfrecord\"]\n",
    "raw_dataset = tf.data.TFRecordDataset(filenames)"
   ]
  },
  {
   "cell_type": "code",
   "execution_count": null,
   "id": "8d89148a",
   "metadata": {},
   "outputs": [],
   "source": [
    "for raw_record in raw_dataset.take(1):\n",
    "    parsed_record = parse_record(raw_record)\n",
    "    decoded_record = decode_record(parsed_record)\n",
    "    X, y = decoded_record\n",
    "    print(X,y)"
   ]
  },
  {
   "cell_type": "code",
   "execution_count": null,
   "id": "9ff807fd",
   "metadata": {},
   "outputs": [],
   "source": []
  },
  {
   "cell_type": "code",
   "execution_count": null,
   "id": "f267cd2e",
   "metadata": {},
   "outputs": [],
   "source": []
  },
  {
   "cell_type": "code",
   "execution_count": null,
   "id": "9da6a228",
   "metadata": {},
   "outputs": [],
   "source": []
  }
 ],
 "metadata": {
  "kernelspec": {
   "display_name": "cub_data_science",
   "language": "python",
   "name": "cub_data_science"
  },
  "language_info": {
   "codemirror_mode": {
    "name": "ipython",
    "version": 3
   },
   "file_extension": ".py",
   "mimetype": "text/x-python",
   "name": "python",
   "nbconvert_exporter": "python",
   "pygments_lexer": "ipython3",
   "version": "3.8.12"
  }
 },
 "nbformat": 4,
 "nbformat_minor": 5
}
