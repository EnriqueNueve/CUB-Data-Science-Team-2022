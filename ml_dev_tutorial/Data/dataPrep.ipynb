{
 "cells": [
  {
   "cell_type": "markdown",
   "id": "6134d431",
   "metadata": {},
   "source": [
    "# Data Analysis \n",
    "## Link to data: https://www.kaggle.com/fedesoriano/company-bankruptcy-prediction"
   ]
  },
  {
   "cell_type": "code",
   "execution_count": null,
   "id": "bdd7f74a",
   "metadata": {},
   "outputs": [],
   "source": [
    "# Import packages\n",
    "import numpy as np \n",
    "import pandas as pd\n",
    "from sklearn.preprocessing import MinMaxScaler\n",
    "from sklearn.model_selection import train_test_split\n",
    "from pprint import pprint\n",
    "from pickle import dump\n",
    "from random import sample as r_sample\n",
    "\n",
    "# Pandas df print formating\n",
    "pd.set_option('display.max_rows', None)\n",
    "pd.set_option('display.max_columns', None)\n",
    "pd.set_option('display.width', 75)\n",
    "pd.set_option('display.colheader_justify', 'center')\n",
    "pd.set_option('display.precision', 3)\n",
    "\n",
    "# Plotting packages\n",
    "import matplotlib.pyplot as plt\n",
    "import seaborn as sns\n",
    "\n",
    "plt.rcParams['figure.figsize'] = (10, 5)\n",
    "plt.style.use('fivethirtyeight')"
   ]
  },
  {
   "cell_type": "markdown",
   "id": "c50e0e57",
   "metadata": {},
   "source": [
    "## Load data"
   ]
  },
  {
   "cell_type": "code",
   "execution_count": null,
   "id": "f9384808",
   "metadata": {},
   "outputs": [],
   "source": [
    "raw_data = pd.read_csv('raw_data.csv')"
   ]
  },
  {
   "cell_type": "markdown",
   "id": "25b52c8c",
   "metadata": {},
   "source": [
    "## View and explore data"
   ]
  },
  {
   "cell_type": "code",
   "execution_count": null,
   "id": "700c4b8a",
   "metadata": {},
   "outputs": [],
   "source": [
    "pprint(raw_data.columns.values.tolist())"
   ]
  },
  {
   "cell_type": "markdown",
   "id": "bb8850b3",
   "metadata": {},
   "source": [
    "### Check for nan values"
   ]
  },
  {
   "cell_type": "code",
   "execution_count": null,
   "id": "b992f6bd",
   "metadata": {},
   "outputs": [],
   "source": [
    "raw_data.isnull().values.any()"
   ]
  },
  {
   "cell_type": "markdown",
   "id": "9250465b",
   "metadata": {},
   "source": [
    "### Check max values"
   ]
  },
  {
   "cell_type": "code",
   "execution_count": null,
   "id": "d130c970",
   "metadata": {},
   "outputs": [],
   "source": [
    "raw_data.max()"
   ]
  },
  {
   "cell_type": "markdown",
   "id": "2156f3bb",
   "metadata": {},
   "source": [
    "### Check min values"
   ]
  },
  {
   "cell_type": "code",
   "execution_count": null,
   "id": "4c51a3e2",
   "metadata": {},
   "outputs": [],
   "source": [
    "raw_data.min()"
   ]
  },
  {
   "cell_type": "markdown",
   "id": "18781694",
   "metadata": {},
   "source": [
    "### Plot hist of target values of bankrupcty"
   ]
  },
  {
   "cell_type": "code",
   "execution_count": null,
   "id": "14bde77f",
   "metadata": {},
   "outputs": [],
   "source": [
    "dist_y_plot = raw_data[\"Bankrupt?\"].value_counts().plot(kind='bar',rot=0)\n",
    "plt.title(\"Spread of target values\")\n",
    "plt.ylabel(\"Count\")\n",
    "plt.xlabel(\"0=no and 1=yes\")\n",
    "plt.show(dist_y_plot)"
   ]
  },
  {
   "cell_type": "markdown",
   "id": "bb7cd1a6",
   "metadata": {},
   "source": [
    "## Split into Train and Val"
   ]
  },
  {
   "cell_type": "code",
   "execution_count": null,
   "id": "dae0d4d1",
   "metadata": {},
   "outputs": [],
   "source": [
    "col_names = raw_data.columns\n",
    "X, y = pd.DataFrame(raw_data.iloc[:,1:]), pd.DataFrame(raw_data.iloc[:,0])\n",
    "print(\"X shape: {}\".format(X.shape))\n",
    "print(\"y shape: {}\".format(y.shape))"
   ]
  },
  {
   "cell_type": "code",
   "execution_count": null,
   "id": "7e93b2d5",
   "metadata": {},
   "outputs": [],
   "source": [
    "X.head()"
   ]
  },
  {
   "cell_type": "code",
   "execution_count": null,
   "id": "be0766a6",
   "metadata": {},
   "outputs": [],
   "source": [
    "y.head()"
   ]
  },
  {
   "cell_type": "code",
   "execution_count": null,
   "id": "66c28b6a",
   "metadata": {},
   "outputs": [],
   "source": [
    "X_train, X_test, y_train, y_test = train_test_split(X, y, test_size=0.30, random_state=2)\n",
    "print(\"Number of train samples: {}\".format(len(y_train)))\n",
    "print(\"Number of test samples: {}\".format(len(y_test)))\n",
    "print(\"X_train shape: {}\".format(X_train.shape))\n",
    "print(\"y_train shape: {}\".format(y_train.shape))\n",
    "print(\"X_test shape: {}\".format(X_test.shape))\n",
    "print(\"X_test shape: {}\".format(y_test.shape))"
   ]
  },
  {
   "cell_type": "markdown",
   "id": "2f99e958",
   "metadata": {},
   "source": [
    "## Scale input data "
   ]
  },
  {
   "cell_type": "code",
   "execution_count": null,
   "id": "4dcaa718",
   "metadata": {},
   "outputs": [],
   "source": [
    "# Declare scaler object\n",
    "scaler = MinMaxScaler()\n",
    "\n",
    "# Scale w.r.t train data \n",
    "scaler.fit(X_train)\n",
    "\n",
    "# Scale train \n",
    "X_train = scaler.transform(X_train) \n",
    "\n",
    "# Scale test \n",
    "X_test = scaler.transform(X_test) \n",
    "\n",
    "# save the scaler\n",
    "dump(scaler, open('scaler.pkl', 'wb'))\n",
    "\n",
    "# load the scaler\n",
    "# scaler = load(open('scaler.pkl', 'rb'))"
   ]
  },
  {
   "cell_type": "markdown",
   "id": "d54ac85f",
   "metadata": {},
   "source": [
    "## Balance train data "
   ]
  },
  {
   "cell_type": "markdown",
   "id": "f58bac0b",
   "metadata": {},
   "source": [
    "### Intial test for sanity "
   ]
  },
  {
   "cell_type": "code",
   "execution_count": null,
   "id": "980e8ead",
   "metadata": {},
   "outputs": [],
   "source": [
    "from sklearn.linear_model import LogisticRegression\n",
    "from sklearn.metrics import confusion_matrix, classification_report\n",
    "\n",
    "# logistic regression object\n",
    "lr = LogisticRegression()\n",
    "  \n",
    "# train the model on train set\n",
    "lr.fit(X_train, y_train.values[:,0])\n",
    "  \n",
    "predictions = lr.predict(X_test)\n",
    "  \n",
    "# print classification report\n",
    "print(classification_report(y_test.values[:,0], predictions))"
   ]
  },
  {
   "cell_type": "markdown",
   "id": "b9a29f97",
   "metadata": {},
   "source": [
    "## Apply SMOTE to balance data"
   ]
  },
  {
   "cell_type": "code",
   "execution_count": null,
   "id": "13ce81c1",
   "metadata": {},
   "outputs": [],
   "source": [
    "print(\"Before OverSampling, counts of label '1': {}\".format(sum(y_train.values == 1)))\n",
    "print(\"Before OverSampling, counts of label '0': {} \\n\".format(sum(y_train.values == 0)))\n",
    "  \n",
    "from imblearn.over_sampling import SMOTE\n",
    "oversample = SMOTE()\n",
    "X_train, y_train = oversample.fit_resample(X_train, y_train.values)\n",
    "  \n",
    "print('After OverSampling, the shape of train_X: {}'.format(X_train.shape))\n",
    "print('After OverSampling, the shape of train_y: {} \\n'.format(y_train.shape))\n",
    "  \n",
    "print(\"After OverSampling, counts of label '1': {}\".format(sum(y_train == 1)))\n",
    "print(\"After OverSampling, counts of label '0': {}\".format(sum(y_train == 0)))"
   ]
  },
  {
   "cell_type": "markdown",
   "id": "1a52be5f",
   "metadata": {},
   "source": [
    "### Post test for sanity "
   ]
  },
  {
   "cell_type": "code",
   "execution_count": null,
   "id": "bcada9ba",
   "metadata": {},
   "outputs": [],
   "source": [
    "from sklearn.linear_model import LogisticRegression\n",
    "from sklearn.metrics import confusion_matrix, classification_report\n",
    "\n",
    "# logistic regression object\n",
    "lr = LogisticRegression()\n",
    "  \n",
    "# train the model on train set\n",
    "lr.fit(X_train, y_train)\n",
    "  \n",
    "predictions = lr.predict(X_test)\n",
    "  \n",
    "# print classification report\n",
    "print(classification_report(y_test.values[:,0], predictions))"
   ]
  },
  {
   "cell_type": "markdown",
   "id": "6613bc4d",
   "metadata": {},
   "source": [
    "## Save new data "
   ]
  },
  {
   "cell_type": "code",
   "execution_count": null,
   "id": "285213e5",
   "metadata": {},
   "outputs": [],
   "source": [
    "pd.DataFrame(X_train,columns=col_names[1:]).to_csv(\"X_train.csv\",index=False)\n",
    "pd.DataFrame(X_test,columns=col_names[1:]).to_csv(\"X_test.csv\",index=False)\n",
    "pd.DataFrame(y_train,columns=[col_names[0]]).to_csv(\"y_train.csv\",index=False)\n",
    "pd.DataFrame(y_test,columns=[col_names[0]]).to_csv(\"y_test.csv\",index=False)"
   ]
  },
  {
   "cell_type": "code",
   "execution_count": null,
   "id": "eff0eeb4",
   "metadata": {},
   "outputs": [],
   "source": []
  },
  {
   "cell_type": "code",
   "execution_count": null,
   "id": "9cd215c4",
   "metadata": {},
   "outputs": [],
   "source": []
  }
 ],
 "metadata": {
  "kernelspec": {
   "display_name": "cub_data_science",
   "language": "python",
   "name": "cub_data_science"
  },
  "language_info": {
   "codemirror_mode": {
    "name": "ipython",
    "version": 3
   },
   "file_extension": ".py",
   "mimetype": "text/x-python",
   "name": "python",
   "nbconvert_exporter": "python",
   "pygments_lexer": "ipython3",
   "version": "3.8.12"
  }
 },
 "nbformat": 4,
 "nbformat_minor": 5
}
