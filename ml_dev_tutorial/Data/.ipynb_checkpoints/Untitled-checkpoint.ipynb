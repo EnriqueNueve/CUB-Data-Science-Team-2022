{
 "cells": [
  {
   "cell_type": "markdown",
   "id": "6134d431",
   "metadata": {},
   "source": [
    "# Data Analysis "
   ]
  },
  {
   "cell_type": "code",
   "execution_count": 5,
   "id": "bdd7f74a",
   "metadata": {},
   "outputs": [
    {
     "ename": "ModuleNotFoundError",
     "evalue": "No module named 'tqdm'",
     "output_type": "error",
     "traceback": [
      "\u001b[0;31m---------------------------------------------------------------------------\u001b[0m",
      "\u001b[0;31mModuleNotFoundError\u001b[0m                       Traceback (most recent call last)",
      "\u001b[0;32m<ipython-input-5-6cf8a02f688f>\u001b[0m in \u001b[0;36m<module>\u001b[0;34m\u001b[0m\n\u001b[1;32m      3\u001b[0m \u001b[0;32mimport\u001b[0m \u001b[0mmatplotlib\u001b[0m\u001b[0;34m.\u001b[0m\u001b[0mpyplot\u001b[0m \u001b[0;32mas\u001b[0m \u001b[0mplt\u001b[0m\u001b[0;34m\u001b[0m\u001b[0;34m\u001b[0m\u001b[0m\n\u001b[1;32m      4\u001b[0m \u001b[0;32mimport\u001b[0m \u001b[0mglob\u001b[0m \u001b[0;32mas\u001b[0m \u001b[0mglob\u001b[0m\u001b[0;34m\u001b[0m\u001b[0;34m\u001b[0m\u001b[0m\n\u001b[0;32m----> 5\u001b[0;31m \u001b[0;32mimport\u001b[0m \u001b[0mtqdm\u001b[0m\u001b[0;34m\u001b[0m\u001b[0;34m\u001b[0m\u001b[0m\n\u001b[0m",
      "\u001b[0;31mModuleNotFoundError\u001b[0m: No module named 'tqdm'"
     ]
    }
   ],
   "source": [
    "# Import packages\n",
    "import numpy as np \n",
    "import matplotlib.pyplot as plt \n",
    "import glob as glob\n",
    "import tqdm"
   ]
  },
  {
   "cell_type": "markdown",
   "id": "c50e0e57",
   "metadata": {},
   "source": [
    "## Load paths of images"
   ]
  },
  {
   "cell_type": "code",
   "execution_count": 4,
   "id": "f9384808",
   "metadata": {},
   "outputs": [
    {
     "name": "stdout",
     "output_type": "stream",
     "text": [
      "Number of images: 3612\n"
     ]
    }
   ],
   "source": [
    "img_paths = glob.glob(\"raw_data/*.jpg\")\n",
    "print(\"Number of images: {}\".format(len(img_paths)))"
   ]
  },
  {
   "cell_type": "markdown",
   "id": "25b52c8c",
   "metadata": {},
   "source": [
    "## View images "
   ]
  },
  {
   "cell_type": "code",
   "execution_count": null,
   "id": "3d33fb97",
   "metadata": {},
   "outputs": [],
   "source": [
    "def loadImages(img_paths,default_shape=(32,32)):\n",
    "    images = []\n",
    "    for path in tqdm(img_paths):\n",
    "        image = np.asarray(Image.open(path).resize((default_shape)))/255\n",
    "        images.append(image)\n",
    "    return images"
   ]
  },
  {
   "cell_type": "code",
   "execution_count": null,
   "id": "1893630d",
   "metadata": {},
   "outputs": [],
   "source": [
    "w=10\n",
    "h=10\n",
    "fig=plt.figure(figsize=(8, 8))\n",
    "columns = 4\n",
    "rows = 2\n",
    "for i in range(1, columns*rows +1):\n",
    "    img = np.random.randint(10, size=(h,w))\n",
    "    fig.add_subplot(rows, columns, i)\n",
    "    codings = tf.random.normal(shape=[1, 20])\n",
    "    images = model.decoder(codings).numpy()\n",
    "    plt.imshow(images[0,:,:], cmap=\"binary\")\n",
    "plt.show()"
   ]
  },
  {
   "cell_type": "code",
   "execution_count": null,
   "id": "5e34babd",
   "metadata": {},
   "outputs": [],
   "source": []
  },
  {
   "cell_type": "code",
   "execution_count": null,
   "id": "497d6dac",
   "metadata": {},
   "outputs": [],
   "source": []
  }
 ],
 "metadata": {
  "kernelspec": {
   "display_name": "cub_data_science",
   "language": "python",
   "name": "cub_data_science"
  },
  "language_info": {
   "codemirror_mode": {
    "name": "ipython",
    "version": 3
   },
   "file_extension": ".py",
   "mimetype": "text/x-python",
   "name": "python",
   "nbconvert_exporter": "python",
   "pygments_lexer": "ipython3",
   "version": "3.8.12"
  }
 },
 "nbformat": 4,
 "nbformat_minor": 5
}
