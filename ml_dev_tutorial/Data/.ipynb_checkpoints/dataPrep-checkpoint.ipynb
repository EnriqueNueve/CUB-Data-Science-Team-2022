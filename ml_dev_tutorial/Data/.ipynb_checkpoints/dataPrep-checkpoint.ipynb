{
 "cells": [
  {
   "cell_type": "markdown",
   "id": "6134d431",
   "metadata": {},
   "source": [
    "# Data Analysis \n",
    "## Link to data: https://www.kaggle.com/fedesoriano/company-bankruptcy-prediction"
   ]
  },
  {
   "cell_type": "code",
   "execution_count": null,
   "id": "bdd7f74a",
   "metadata": {},
   "outputs": [],
   "source": [
    "# Import packages\n",
    "import numpy as np \n",
    "import pandas as pd\n",
    "import matplotlib.pyplot as plt \n",
    "from sklearn.model_selection import train_test_split\n",
    "from random import sample as r_sample\n",
    "\n",
    "# Pandas df print formating\n",
    "pd.set_option('display.max_rows', None)\n",
    "pd.set_option('display.max_columns', None)\n",
    "pd.set_option('display.width', 75)\n",
    "pd.set_option('display.colheader_justify', 'center')\n",
    "pd.set_option('display.precision', 3)"
   ]
  },
  {
   "cell_type": "markdown",
   "id": "c50e0e57",
   "metadata": {},
   "source": [
    "## Load data"
   ]
  },
  {
   "cell_type": "code",
   "execution_count": null,
   "id": "f9384808",
   "metadata": {},
   "outputs": [],
   "source": [
    "raw_data = pd.read_csv('raw_data.csv')\n",
    "print(raw_data.describe())"
   ]
  },
  {
   "cell_type": "markdown",
   "id": "25b52c8c",
   "metadata": {},
   "source": [
    "## View data"
   ]
  },
  {
   "cell_type": "code",
   "execution_count": null,
   "id": "700c4b8a",
   "metadata": {},
   "outputs": [],
   "source": []
  },
  {
   "cell_type": "markdown",
   "id": "bb7cd1a6",
   "metadata": {},
   "source": [
    "## Split into Train and Val"
   ]
  },
  {
   "cell_type": "code",
   "execution_count": null,
   "id": "66c28b6a",
   "metadata": {},
   "outputs": [],
   "source": [
    "dummy_y = [0]*len(img_paths)\n",
    "X_train, X_val, _, _ = train_test_split(img_paths, dummy_y, test_size=0.30, random_state=2)\n",
    "print(\"Number of train images: {}\".format(len(X_train)))\n",
    "print(\"Number of val images: {}\".format(len(X_val)))"
   ]
  },
  {
   "cell_type": "code",
   "execution_count": null,
   "id": "5a9f9ceb",
   "metadata": {},
   "outputs": [],
   "source": []
  },
  {
   "cell_type": "code",
   "execution_count": null,
   "id": "4dcaa718",
   "metadata": {},
   "outputs": [],
   "source": []
  },
  {
   "cell_type": "code",
   "execution_count": null,
   "id": "98a3a51c",
   "metadata": {},
   "outputs": [],
   "source": []
  },
  {
   "cell_type": "code",
   "execution_count": null,
   "id": "8f2c8358",
   "metadata": {},
   "outputs": [],
   "source": []
  },
  {
   "cell_type": "code",
   "execution_count": null,
   "id": "285213e5",
   "metadata": {},
   "outputs": [],
   "source": []
  },
  {
   "cell_type": "code",
   "execution_count": null,
   "id": "eff0eeb4",
   "metadata": {},
   "outputs": [],
   "source": []
  }
 ],
 "metadata": {
  "kernelspec": {
   "display_name": "cub_data_science",
   "language": "python",
   "name": "cub_data_science"
  },
  "language_info": {
   "codemirror_mode": {
    "name": "ipython",
    "version": 3
   },
   "file_extension": ".py",
   "mimetype": "text/x-python",
   "name": "python",
   "nbconvert_exporter": "python",
   "pygments_lexer": "ipython3",
   "version": "3.8.12"
  }
 },
 "nbformat": 4,
 "nbformat_minor": 5
}
