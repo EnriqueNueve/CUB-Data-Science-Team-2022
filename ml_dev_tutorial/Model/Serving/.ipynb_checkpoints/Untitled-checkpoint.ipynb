{
 "cells": [
  {
   "cell_type": "markdown",
   "id": "ec74ac86",
   "metadata": {},
   "source": [
    "# Test tf serving"
   ]
  },
  {
   "cell_type": "code",
   "execution_count": null,
   "id": "4683a883",
   "metadata": {},
   "outputs": [],
   "source": [
    "import json\n",
    "import requests\n",
    "import numpy as np\n",
    "import tensorflow as tf\n",
    "from sklearn.metrics import classification_report\n",
    "from sklearn.metrics import confusion_matrix"
   ]
  },
  {
   "cell_type": "markdown",
   "id": "ff21e34a",
   "metadata": {},
   "source": [
    "## Run in terminal docker image"
   ]
  },
  {
   "cell_type": "markdown",
   "id": "7352bf03",
   "metadata": {},
   "source": [
    "docker run -p 8501:8501 --mount type=bind,source=/Users/rick/Desktop/Boulder/Spring2022/data_science/workspace/CUB-Data-Science-Team-2022/ml_dev_tutorial/Model/Serving/tf_model,target=/models/bankmodel/ -e MODEL_NAME=bankmodel -t tensorflow/serving "
   ]
  },
  {
   "cell_type": "markdown",
   "id": "6f09da1b",
   "metadata": {},
   "source": [
    "## Load data"
   ]
  },
  {
   "cell_type": "code",
   "execution_count": null,
   "id": "59ea09f5",
   "metadata": {},
   "outputs": [],
   "source": [
    "# Decoding function\n",
    "def parse_record(record):\n",
    "    name_to_features = {\n",
    "        'features': tf.io.FixedLenFeature([95], tf.float32),\n",
    "        'label': tf.io.FixedLenFeature([], tf.int64),\n",
    "    }\n",
    "    return tf.io.parse_single_example(record, name_to_features)\n",
    "\n",
    "def decode_record(record):\n",
    "    features = record['features']\n",
    "    target = record['label']\n",
    "    return (features,target)\n",
    "\n",
    "def prepData(record):\n",
    "    record = parse_record(record)\n",
    "    X,y = decode_record(record)\n",
    "    return X, y"
   ]
  },
  {
   "cell_type": "code",
   "execution_count": null,
   "id": "bdf1f452",
   "metadata": {},
   "outputs": [],
   "source": [
    "data_path = \"/Users/rick/Desktop/Boulder/Spring2022/data_science/workspace/CUB-Data-Science-Team-2022/ml_dev_tutorial/Data\""
   ]
  },
  {
   "cell_type": "code",
   "execution_count": null,
   "id": "7e0f561d",
   "metadata": {},
   "outputs": [],
   "source": [
    "test_file_name = data_path+\"/tfRecord/test.tfrecord\"\n",
    "test_dataset = tf.data.TFRecordDataset(test_file_name)\n",
    "test_dataset = test_dataset.map(prepData, num_parallel_calls=tf.data.AUTOTUNE)\n",
    "\n",
    "test_dataset = test_dataset.cache()\n",
    "test_dataset = test_dataset.shuffle(10000)\n",
    "test_dataset = test_dataset.batch(3000)\n",
    "test_dataset = test_dataset.prefetch(tf.data.AUTOTUNE)"
   ]
  },
  {
   "cell_type": "code",
   "execution_count": null,
   "id": "3c8991b3",
   "metadata": {},
   "outputs": [],
   "source": [
    "iterator = iter(test_dataset)\n",
    "next_element = iterator.get_next()\n",
    "X_test, y_test = next_element\n",
    "print(X_test.shape)\n",
    "print(y_test.shape)"
   ]
  },
  {
   "cell_type": "markdown",
   "id": "1ba5d5b1",
   "metadata": {},
   "source": [
    "## Call server on test data"
   ]
  },
  {
   "cell_type": "code",
   "execution_count": null,
   "id": "dbf0176f",
   "metadata": {},
   "outputs": [],
   "source": [
    "#Create JSON Object\n",
    "data = json.dumps({\"signature_name\": \"serving_default\", \"instances\": X_test.numpy().tolist()})"
   ]
  },
  {
   "cell_type": "code",
   "execution_count": null,
   "id": "20e2ce9e",
   "metadata": {},
   "outputs": [],
   "source": [
    "headers = {\"content-type\": \"application/json\"}\n",
    "json_response = requests.post('http://localhost:8501/v1/models/bankmodel:predict', data=data, headers=headers)\n",
    "predictions = json.loads(json_response.text)['predictions']"
   ]
  },
  {
   "cell_type": "code",
   "execution_count": null,
   "id": "7714e287",
   "metadata": {},
   "outputs": [],
   "source": [
    "pred_round = [round(pred) for pred in sum(predictions, [])]"
   ]
  },
  {
   "cell_type": "code",
   "execution_count": null,
   "id": "b3a751f9",
   "metadata": {},
   "outputs": [],
   "source": [
    "target_names = ['no fraud','fraud']\n",
    "print(classification_report(y_test.numpy().tolist(), pred_round,target_names=target_names))"
   ]
  },
  {
   "cell_type": "code",
   "execution_count": null,
   "id": "b377e4d6",
   "metadata": {},
   "outputs": [],
   "source": []
  },
  {
   "cell_type": "code",
   "execution_count": null,
   "id": "f190d312",
   "metadata": {},
   "outputs": [],
   "source": []
  },
  {
   "cell_type": "code",
   "execution_count": null,
   "id": "5946f917",
   "metadata": {},
   "outputs": [],
   "source": []
  },
  {
   "cell_type": "code",
   "execution_count": null,
   "id": "8bf0a307",
   "metadata": {},
   "outputs": [],
   "source": []
  }
 ],
 "metadata": {
  "kernelspec": {
   "display_name": "cub_data_science",
   "language": "python",
   "name": "cub_data_science"
  },
  "language_info": {
   "codemirror_mode": {
    "name": "ipython",
    "version": 3
   },
   "file_extension": ".py",
   "mimetype": "text/x-python",
   "name": "python",
   "nbconvert_exporter": "python",
   "pygments_lexer": "ipython3",
   "version": "3.8.12"
  }
 },
 "nbformat": 4,
 "nbformat_minor": 5
}
